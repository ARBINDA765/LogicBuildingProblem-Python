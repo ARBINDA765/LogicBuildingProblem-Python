{
 "cells": [
  {
   "cell_type": "markdown",
   "id": "d1a72c8f",
   "metadata": {},
   "source": [
    "# Sorting Words in a List"
   ]
  },
  {
   "cell_type": "code",
   "execution_count": 2,
   "id": "bf9ec5f3",
   "metadata": {},
   "outputs": [
    {
     "name": "stdout",
     "output_type": "stream",
     "text": [
      "['apple', 'banana', 'cherry']\n"
     ]
    }
   ],
   "source": [
    "words = [\"banana\", \"apple\", \"cherry\"]\n",
    "sorted_words = sorted(words)\n",
    "print(sorted_words)  # Output: ['apple', 'banana', 'cherry']"
   ]
  },
  {
   "cell_type": "code",
   "execution_count": 4,
   "id": "ea9fa39b",
   "metadata": {},
   "outputs": [
    {
     "data": {
      "text/plain": [
       "['apple', 'banana', 'cherry']"
      ]
     },
     "execution_count": 4,
     "metadata": {},
     "output_type": "execute_result"
    }
   ],
   "source": [
    "sorted_words = sorted(words)\n",
    "sorted_words"
   ]
  },
  {
   "cell_type": "code",
   "execution_count": 19,
   "id": "29dd7594",
   "metadata": {},
   "outputs": [
    {
     "data": {
      "text/plain": [
       "'apple banana cherry'"
      ]
     },
     "execution_count": 19,
     "metadata": {},
     "output_type": "execute_result"
    }
   ],
   "source": [
    "sentence = \"banana apple cherry\"\n",
    "split_=sorted(sentence.split())\n",
    "' '.join(split_)\n"
   ]
  },
  {
   "cell_type": "code",
   "execution_count": null,
   "id": "647ad2a0",
   "metadata": {},
   "outputs": [],
   "source": []
  }
 ],
 "metadata": {
  "kernelspec": {
   "display_name": "Python 3 (ipykernel)",
   "language": "python",
   "name": "python3"
  },
  "language_info": {
   "codemirror_mode": {
    "name": "ipython",
    "version": 3
   },
   "file_extension": ".py",
   "mimetype": "text/x-python",
   "name": "python",
   "nbconvert_exporter": "python",
   "pygments_lexer": "ipython3",
   "version": "3.9.13"
  }
 },
 "nbformat": 4,
 "nbformat_minor": 5
}
