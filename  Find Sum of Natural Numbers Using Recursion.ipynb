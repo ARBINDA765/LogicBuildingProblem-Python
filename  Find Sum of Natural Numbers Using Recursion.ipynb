{
 "cells": [
  {
   "cell_type": "markdown",
   "id": "b36f3a56",
   "metadata": {},
   "source": [
    "# Python Program to Find Sum of Natural Numbers Using Recursion"
   ]
  },
  {
   "cell_type": "code",
   "execution_count": null,
   "id": "4cc84427",
   "metadata": {},
   "outputs": [],
   "source": [
    "The Basic Recursive Algorithm"
   ]
  },
  {
   "cell_type": "code",
   "execution_count": 4,
   "id": "15830a6d",
   "metadata": {},
   "outputs": [],
   "source": [
    "def sum_natural(n):\n",
    "    if n==1:\n",
    "        return 1\n",
    "    else:\n",
    "        return n + sum_natural(n-1)\n",
    "        "
   ]
  },
  {
   "cell_type": "code",
   "execution_count": 5,
   "id": "908459bf",
   "metadata": {},
   "outputs": [
    {
     "name": "stdout",
     "output_type": "stream",
     "text": [
      "15\n"
     ]
    }
   ],
   "source": [
    "# Example usage\n",
    "print(sum_natural(5))  # Output will be 15 (1+2+3+4+5)"
   ]
  },
  {
   "cell_type": "markdown",
   "id": "0d8d5483",
   "metadata": {},
   "source": [
    "# Optimizing Recursion"
   ]
  },
  {
   "cell_type": "code",
   "execution_count": 6,
   "id": "41ed6929",
   "metadata": {},
   "outputs": [
    {
     "name": "stdout",
     "output_type": "stream",
     "text": [
      "15\n"
     ]
    }
   ],
   "source": [
    "def find_sum_tail_recursive(n, accumulator=0):\n",
    "    if n == 0:\n",
    "        return accumulator\n",
    "    else:\n",
    "        return find_sum_tail_recursive(n-1, accumulator + n)\n",
    "\n",
    "# Example usage\n",
    "print(find_sum_tail_recursive(5))  # Output will be 15 (1+2+3+4+5)"
   ]
  },
  {
   "cell_type": "code",
   "execution_count": null,
   "id": "a2a8d9e4",
   "metadata": {},
   "outputs": [],
   "source": []
  }
 ],
 "metadata": {
  "kernelspec": {
   "display_name": "Python 3 (ipykernel)",
   "language": "python",
   "name": "python3"
  },
  "language_info": {
   "codemirror_mode": {
    "name": "ipython",
    "version": 3
   },
   "file_extension": ".py",
   "mimetype": "text/x-python",
   "name": "python",
   "nbconvert_exporter": "python",
   "pygments_lexer": "ipython3",
   "version": "3.9.13"
  }
 },
 "nbformat": 4,
 "nbformat_minor": 5
}
