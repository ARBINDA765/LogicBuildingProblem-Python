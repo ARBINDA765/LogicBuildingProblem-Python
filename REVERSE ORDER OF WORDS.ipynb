{
 "cells": [
  {
   "cell_type": "markdown",
   "id": "4ba5376f",
   "metadata": {},
   "source": [
    "# REVERSE ORDER OF WORDS"
   ]
  },
  {
   "cell_type": "code",
   "execution_count": 26,
   "id": "599ae118",
   "metadata": {},
   "outputs": [],
   "source": [
    "#very short approach\n",
    "def reverse_string(string):\n",
    "    a = string.split()  \n",
    "    a.reverse()\n",
    "    print(a)\n",
    "    return ' '.join(a)   \n"
   ]
  },
  {
   "cell_type": "code",
   "execution_count": 27,
   "id": "52b46800",
   "metadata": {},
   "outputs": [
    {
     "name": "stdout",
     "output_type": "stream",
     "text": [
      "['Mission', 'is', 'This']\n",
      "Mission is This\n"
     ]
    }
   ],
   "source": [
    "string = 'This is Mission'\n",
    "print(reverse_string(string))"
   ]
  },
  {
   "cell_type": "code",
   "execution_count": 2,
   "id": "c8b83426",
   "metadata": {},
   "outputs": [
    {
     "name": "stdout",
     "output_type": "stream",
     "text": [
      "Mission is This "
     ]
    }
   ],
   "source": [
    "#Traditional Method\n",
    "sent=\"This is Mission\"\n",
    "sent=sent.split()\n",
    "sentlen=len(sent)-1\n",
    "for i in range(sentlen,-1,-1):\n",
    "    print(sent[i],end=\" \")"
   ]
  },
  {
   "cell_type": "code",
   "execution_count": 17,
   "id": "dbec489a",
   "metadata": {},
   "outputs": [],
   "source": [
    "#Smart Way\n",
    "def reverse_string(string):\n",
    "    if len(string)<0:\n",
    "        return \" \"\n",
    "    else:\n",
    "        a = string.split() \n",
    "        a=a[::-1]\n",
    "        return ' '.join(a)"
   ]
  },
  {
   "cell_type": "code",
   "execution_count": 18,
   "id": "47c409de",
   "metadata": {},
   "outputs": [
    {
     "data": {
      "text/plain": [
       "'Mission is This'"
      ]
     },
     "execution_count": 18,
     "metadata": {},
     "output_type": "execute_result"
    }
   ],
   "source": [
    "string=\"This is Mission\"\n",
    "reverse_string(string)"
   ]
  },
  {
   "cell_type": "code",
   "execution_count": null,
   "id": "6fc2a495",
   "metadata": {},
   "outputs": [],
   "source": []
  }
 ],
 "metadata": {
  "kernelspec": {
   "display_name": "Python 3 (ipykernel)",
   "language": "python",
   "name": "python3"
  },
  "language_info": {
   "codemirror_mode": {
    "name": "ipython",
    "version": 3
   },
   "file_extension": ".py",
   "mimetype": "text/x-python",
   "name": "python",
   "nbconvert_exporter": "python",
   "pygments_lexer": "ipython3",
   "version": "3.9.13"
  }
 },
 "nbformat": 4,
 "nbformat_minor": 5
}
