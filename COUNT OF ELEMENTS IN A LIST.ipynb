{
 "cells": [
  {
   "cell_type": "code",
   "execution_count": 3,
   "id": "7372e29d",
   "metadata": {},
   "outputs": [],
   "source": [
    "l=[1,2,3]"
   ]
  },
  {
   "cell_type": "code",
   "execution_count": 6,
   "id": "a2e4c58d",
   "metadata": {},
   "outputs": [],
   "source": [
    "def count_len(l):\n",
    "    if not l:\n",
    "        return 0\n",
    "    else:\n",
    "        return 1+count_len(l[1:])"
   ]
  },
  {
   "cell_type": "code",
   "execution_count": 7,
   "id": "9dce6cce",
   "metadata": {},
   "outputs": [
    {
     "data": {
      "text/plain": [
       "3"
      ]
     },
     "execution_count": 7,
     "metadata": {},
     "output_type": "execute_result"
    }
   ],
   "source": [
    "count_len(l)"
   ]
  },
  {
   "cell_type": "code",
   "execution_count": null,
   "id": "5abcb42d",
   "metadata": {},
   "outputs": [],
   "source": []
  }
 ],
 "metadata": {
  "kernelspec": {
   "display_name": "Python 3 (ipykernel)",
   "language": "python",
   "name": "python3"
  },
  "language_info": {
   "codemirror_mode": {
    "name": "ipython",
    "version": 3
   },
   "file_extension": ".py",
   "mimetype": "text/x-python",
   "name": "python",
   "nbconvert_exporter": "python",
   "pygments_lexer": "ipython3",
   "version": "3.9.13"
  }
 },
 "nbformat": 4,
 "nbformat_minor": 5
}
