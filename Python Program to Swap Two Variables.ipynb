{
 "cells": [
  {
   "cell_type": "markdown",
   "id": "3328a0a0",
   "metadata": {},
   "source": [
    "# 1-Classic Approach Using a Temporary Variable\n"
   ]
  },
  {
   "cell_type": "code",
   "execution_count": 4,
   "id": "272ce78f",
   "metadata": {},
   "outputs": [
    {
     "name": "stdout",
     "output_type": "stream",
     "text": [
      "After wapped the new value of a---- 10\n",
      "After wapped the new value of b---- 5\n"
     ]
    }
   ],
   "source": [
    "# Swapping by Temp Variable\n",
    "a = 5\n",
    "b = 10\n",
    "\n",
    "# Swapping\n",
    "temp = a\n",
    "a=b\n",
    "b=temp\n",
    "print(\"After wapped the new value of a----\",a)\n",
    "print(\"After wapped the new value of b----\",b)"
   ]
  },
  {
   "cell_type": "markdown",
   "id": "b4872a46",
   "metadata": {},
   "source": [
    "# 2-#The Pythonic Way: Tuple Unpacking\n"
   ]
  },
  {
   "cell_type": "code",
   "execution_count": 5,
   "id": "86778544",
   "metadata": {},
   "outputs": [
    {
     "name": "stdout",
     "output_type": "stream",
     "text": [
      "After wapped the new value of a---- 900\n",
      "After wapped the new value of b---- 90\n"
     ]
    }
   ],
   "source": [
    "a=90\n",
    "b=900\n",
    "a,b=b,a\n",
    "print(\"After wapped the new value of a----\",a)\n",
    "print(\"After wapped the new value of b----\",b)"
   ]
  },
  {
   "cell_type": "markdown",
   "id": "bb857710",
   "metadata": {},
   "source": [
    "# 3-#Using Arithmetic Operations"
   ]
  },
  {
   "cell_type": "code",
   "execution_count": 6,
   "id": "6d8623f9",
   "metadata": {},
   "outputs": [
    {
     "name": "stdout",
     "output_type": "stream",
     "text": [
      "After wapped the new value of a---- 100\n",
      "After wapped the new value of b---- 10\n"
     ]
    }
   ],
   "source": [
    "\n",
    "#Swapping\n",
    "a=10\n",
    "b=100\n",
    "a=a+b  #a=110\n",
    "b=a-b # b=110-100=10\n",
    "a=a-b #a=110-10=100\n",
    "\n",
    "#Finally swapping done wiithout temp variable \n",
    "print(\"After wapped the new value of a----\",a)\n",
    "print(\"After wapped the new value of b----\",b)"
   ]
  },
  {
   "cell_type": "code",
   "execution_count": 8,
   "id": "f44fb2f0",
   "metadata": {},
   "outputs": [
    {
     "name": "stdout",
     "output_type": "stream",
     "text": [
      "After wapped the new value of a---- 10\n",
      "After wapped the new value of b---- 50\n"
     ]
    }
   ],
   "source": [
    "#Using Standard Library Functions\n",
    "a = 50\n",
    "b = 10\n",
    "\n",
    "a, b = reversed([a, b])\n",
    "#Finally swapping done \n",
    "print(\"After wapped the new value of a----\",a)\n",
    "print(\"After wapped the new value of b----\",b)"
   ]
  },
  {
   "cell_type": "code",
   "execution_count": null,
   "id": "c5e42583",
   "metadata": {},
   "outputs": [],
   "source": []
  }
 ],
 "metadata": {
  "kernelspec": {
   "display_name": "Python 3 (ipykernel)",
   "language": "python",
   "name": "python3"
  },
  "language_info": {
   "codemirror_mode": {
    "name": "ipython",
    "version": 3
   },
   "file_extension": ".py",
   "mimetype": "text/x-python",
   "name": "python",
   "nbconvert_exporter": "python",
   "pygments_lexer": "ipython3",
   "version": "3.9.13"
  }
 },
 "nbformat": 4,
 "nbformat_minor": 5
}
