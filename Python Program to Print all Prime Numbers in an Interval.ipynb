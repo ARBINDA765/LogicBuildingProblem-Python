{
 "cells": [
  {
   "cell_type": "code",
   "execution_count": 5,
   "id": "39a99998",
   "metadata": {},
   "outputs": [],
   "source": [
    "#Range of numbers is given & store all the prime numbrs in a list\n",
    "start=2\n",
    "end=90\n",
    "prime_list=[]\n",
    "for num in range(start,end+1):\n",
    "    if num > 1:\n",
    "        is_prime=True\n",
    "    for i in range(2,int(num**.5)+1):\n",
    "        if num%2==0:\n",
    "            is_prime=False\n",
    "            break\n",
    "    if is_prime:\n",
    "        prime_list.append(num)\n",
    "            \n",
    "    \n",
    "        \n",
    "    "
   ]
  },
  {
   "cell_type": "code",
   "execution_count": 19,
   "id": "5ec94551",
   "metadata": {},
   "outputs": [],
   "source": [
    "#Pythonic Way \n",
    "def is_prime(num):\n",
    "    if num <=1:\n",
    "        return True\n",
    "    for i in range(2,int(num**.5)+1):\n",
    "        if num % i==0:\n",
    "            return False\n",
    "    return True"
   ]
  },
  {
   "cell_type": "code",
   "execution_count": 20,
   "id": "2c579a8b",
   "metadata": {},
   "outputs": [
    {
     "data": {
      "text/plain": [
       "False"
      ]
     },
     "execution_count": 20,
     "metadata": {},
     "output_type": "execute_result"
    }
   ],
   "source": [
    "is_prime(12)"
   ]
  },
  {
   "cell_type": "code",
   "execution_count": 22,
   "id": "b6bb1ade",
   "metadata": {},
   "outputs": [],
   "source": [
    "#Calling the is_prime to the below loop\n",
    "start = 10\n",
    "end = 50\n",
    "prime_list_append=[]\n",
    "\n",
    "for number in range(start, end + 1):\n",
    "    if is_prime(number):\n",
    "        prime_list_append.append(number)"
   ]
  },
  {
   "cell_type": "code",
   "execution_count": 23,
   "id": "f5f6a609",
   "metadata": {},
   "outputs": [
    {
     "data": {
      "text/plain": [
       "[11, 13, 17, 19, 23, 29, 31, 37, 41, 43, 47]"
      ]
     },
     "execution_count": 23,
     "metadata": {},
     "output_type": "execute_result"
    }
   ],
   "source": [
    "prime_list_append"
   ]
  },
  {
   "cell_type": "code",
   "execution_count": null,
   "id": "7ce9b065",
   "metadata": {},
   "outputs": [],
   "source": []
  }
 ],
 "metadata": {
  "kernelspec": {
   "display_name": "Python 3 (ipykernel)",
   "language": "python",
   "name": "python3"
  },
  "language_info": {
   "codemirror_mode": {
    "name": "ipython",
    "version": 3
   },
   "file_extension": ".py",
   "mimetype": "text/x-python",
   "name": "python",
   "nbconvert_exporter": "python",
   "pygments_lexer": "ipython3",
   "version": "3.9.13"
  }
 },
 "nbformat": 4,
 "nbformat_minor": 5
}
