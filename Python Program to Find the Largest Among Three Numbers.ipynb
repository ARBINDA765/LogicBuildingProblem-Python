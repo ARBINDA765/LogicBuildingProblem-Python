{
 "cells": [
  {
   "cell_type": "code",
   "execution_count": 21,
   "id": "1a399e34",
   "metadata": {},
   "outputs": [],
   "source": [
    "def largest_num(num1,num2,num3):\n",
    "    if (num1 == num2 and num1==num3 and num2==num3 and num2==num1):\n",
    "        return \"Enter the different numbers\"\n",
    "    elif (num1>=num2 and num1 >=num3):\n",
    "        return \"Largest number is  \" + str(num1)\n",
    "    elif (num2>=num3 and num2>=num1):\n",
    "        return \"Largest number is  \" + str(num2)\n",
    "    \n",
    "    else:\n",
    "        return num1"
   ]
  },
  {
   "cell_type": "code",
   "execution_count": 22,
   "id": "2ad11af8",
   "metadata": {},
   "outputs": [
    {
     "data": {
      "text/plain": [
       "'Largest number is  0'"
      ]
     },
     "execution_count": 22,
     "metadata": {},
     "output_type": "execute_result"
    }
   ],
   "source": [
    "num1=-8\n",
    "num2=0\n",
    "num3=0\n",
    "largest_num(num1,num2,num3)"
   ]
  },
  {
   "cell_type": "code",
   "execution_count": null,
   "id": "2b8e9fe7",
   "metadata": {},
   "outputs": [],
   "source": []
  }
 ],
 "metadata": {
  "kernelspec": {
   "display_name": "Python 3 (ipykernel)",
   "language": "python",
   "name": "python3"
  },
  "language_info": {
   "codemirror_mode": {
    "name": "ipython",
    "version": 3
   },
   "file_extension": ".py",
   "mimetype": "text/x-python",
   "name": "python",
   "nbconvert_exporter": "python",
   "pygments_lexer": "ipython3",
   "version": "3.9.13"
  }
 },
 "nbformat": 4,
 "nbformat_minor": 5
}
