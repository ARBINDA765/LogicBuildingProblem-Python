{
 "cells": [
  {
   "cell_type": "markdown",
   "id": "05d16f00",
   "metadata": {},
   "source": [
    "# Python Program to Check if a Number is Positive, Negative or 0"
   ]
  },
  {
   "cell_type": "code",
   "execution_count": null,
   "id": "9c8fbe7f",
   "metadata": {},
   "outputs": [],
   "source": [
    "Take_Input= list((input((\"Enter the number:  \"))))"
   ]
  },
  {
   "cell_type": "code",
   "execution_count": null,
   "id": "09e09225",
   "metadata": {},
   "outputs": [],
   "source": [
    "for i in Take_Input:\n",
    "    if int(i) > 0:\n",
    "        print(\"Its a PositiVE Number\")\n",
    "    elif int(i) < 0:\n",
    "        print(\"Its a Negative Number\")\n",
    "    elif int(i) == 0:\n",
    "        print(\"Ops its Zero\")\n",
    "        \n",
    "        "
   ]
  },
  {
   "cell_type": "markdown",
   "id": "3c6bb257",
   "metadata": {},
   "source": [
    "# Python Program to Check if a Number is Odd or Even"
   ]
  },
  {
   "cell_type": "code",
   "execution_count": null,
   "id": "72861086",
   "metadata": {},
   "outputs": [],
   "source": [
    "def check_even_odd(num):\n",
    "    if num >0:\n",
    "        if num % 2 ==0:\n",
    "            print(f\"{num} is an even number.\")\n",
    "        else:\n",
    "            print(f\"{num} is an even number.\")\n",
    "    else:\n",
    "        print(f\"{num} is not a even number.\")\n",
    "\n",
    "        "
   ]
  },
  {
   "cell_type": "code",
   "execution_count": null,
   "id": "d838d195",
   "metadata": {},
   "outputs": [],
   "source": [
    "check_even_odd(0)"
   ]
  },
  {
   "cell_type": "code",
   "execution_count": null,
   "id": "741dedf6",
   "metadata": {},
   "outputs": [],
   "source": [
    "list_data=[9,0,8,7,6,-8,55,65.6]"
   ]
  },
  {
   "cell_type": "code",
   "execution_count": null,
   "id": "59b3b824",
   "metadata": {},
   "outputs": [],
   "source": [
    "#Storing values in different List for Even 7 odd elements\n",
    "list_data=[9,0,8,7,6,-8,55,65.6]\n",
    "even_list=[]\n",
    "odd_list=[]\n",
    "for i in list_data:\n",
    "    if i %2==0:\n",
    "        even_list.append(i)\n",
    "    elif i %2 != 0:\n",
    "        odd_list.append(i)\n",
    "print(\"This is the odd element list\",odd_list)\n",
    "print(\"This is the Even element list\",even_list)\n"
   ]
  },
  {
   "cell_type": "code",
   "execution_count": null,
   "id": "a427e163",
   "metadata": {},
   "outputs": [],
   "source": []
  }
 ],
 "metadata": {
  "kernelspec": {
   "display_name": "Python 3 (ipykernel)",
   "language": "python",
   "name": "python3"
  },
  "language_info": {
   "codemirror_mode": {
    "name": "ipython",
    "version": 3
   },
   "file_extension": ".py",
   "mimetype": "text/x-python",
   "name": "python",
   "nbconvert_exporter": "python",
   "pygments_lexer": "ipython3",
   "version": "3.9.13"
  }
 },
 "nbformat": 4,
 "nbformat_minor": 5
}
