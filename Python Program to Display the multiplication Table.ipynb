{
 "cells": [
  {
   "cell_type": "code",
   "execution_count": 8,
   "id": "e4018641",
   "metadata": {},
   "outputs": [],
   "source": [
    "def multiplication_tb(num):\n",
    "    num = int(input(\"Enter the numbers------------->  \"))\n",
    "    for i in range(1,num+1):\n",
    "        print(f\"{num} X {i} is {num*i}\")"
   ]
  },
  {
   "cell_type": "code",
   "execution_count": 9,
   "id": "2438852f",
   "metadata": {},
   "outputs": [
    {
     "name": "stdout",
     "output_type": "stream",
     "text": [
      "Enter the numbers------------->  5\n",
      "5 X 1 is 5\n",
      "5 X 2 is 10\n",
      "5 X 3 is 15\n",
      "5 X 4 is 20\n",
      "5 X 5 is 25\n"
     ]
    }
   ],
   "source": [
    "multiplication_tb(3)"
   ]
  },
  {
   "cell_type": "code",
   "execution_count": null,
   "id": "c22980fe",
   "metadata": {},
   "outputs": [],
   "source": []
  }
 ],
 "metadata": {
  "kernelspec": {
   "display_name": "Python 3 (ipykernel)",
   "language": "python",
   "name": "python3"
  },
  "language_info": {
   "codemirror_mode": {
    "name": "ipython",
    "version": 3
   },
   "file_extension": ".py",
   "mimetype": "text/x-python",
   "name": "python",
   "nbconvert_exporter": "python",
   "pygments_lexer": "ipython3",
   "version": "3.9.13"
  }
 },
 "nbformat": 4,
 "nbformat_minor": 5
}
