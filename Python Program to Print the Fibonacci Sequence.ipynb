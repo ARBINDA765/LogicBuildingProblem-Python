{
 "cells": [
  {
   "cell_type": "code",
   "execution_count": 19,
   "id": "a559fe57",
   "metadata": {},
   "outputs": [],
   "source": [
    "#Solution -1\n",
    "def fibonaic_series(n):\n",
    "    a,b=0,1\n",
    "    for i in range(n):\n",
    "        print(a,end=\" \")\n",
    "        a,b=b,a+b\n",
    "    print()\n",
    "    \n",
    "    "
   ]
  },
  {
   "cell_type": "code",
   "execution_count": 20,
   "id": "47c76680",
   "metadata": {},
   "outputs": [
    {
     "name": "stdout",
     "output_type": "stream",
     "text": [
      "0 1 1 2 \n"
     ]
    }
   ],
   "source": [
    "fibonaic_series(4)"
   ]
  },
  {
   "cell_type": "markdown",
   "id": "1d2d6f09",
   "metadata": {},
   "source": [
    "# Solution Approach -2 "
   ]
  },
  {
   "cell_type": "code",
   "execution_count": 29,
   "id": "6fc35f52",
   "metadata": {},
   "outputs": [],
   "source": [
    "def fibonacci_dp(n):\n",
    "    fib_values = [0, 1]\n",
    "    for i in range(2,n):\n",
    "        fib_values.append(fib_values[i-1]+fib_values[i-2])\n",
    "    return fib_values\n",
    "        "
   ]
  },
  {
   "cell_type": "code",
   "execution_count": 30,
   "id": "3385060f",
   "metadata": {},
   "outputs": [
    {
     "data": {
      "text/plain": [
       "[0, 1, 1, 2, 3]"
      ]
     },
     "execution_count": 30,
     "metadata": {},
     "output_type": "execute_result"
    }
   ],
   "source": [
    "fibonacci_dp(5)"
   ]
  },
  {
   "cell_type": "code",
   "execution_count": null,
   "id": "63375d9d",
   "metadata": {},
   "outputs": [],
   "source": []
  }
 ],
 "metadata": {
  "kernelspec": {
   "display_name": "Python 3 (ipykernel)",
   "language": "python",
   "name": "python3"
  },
  "language_info": {
   "codemirror_mode": {
    "name": "ipython",
    "version": 3
   },
   "file_extension": ".py",
   "mimetype": "text/x-python",
   "name": "python",
   "nbconvert_exporter": "python",
   "pygments_lexer": "ipython3",
   "version": "3.9.13"
  }
 },
 "nbformat": 4,
 "nbformat_minor": 5
}
