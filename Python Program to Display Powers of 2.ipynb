{
 "cells": [
  {
   "cell_type": "markdown",
   "id": "efb3b2a0",
   "metadata": {},
   "source": [
    "# The Basic Loop Method"
   ]
  },
  {
   "cell_type": "code",
   "execution_count": 4,
   "id": "8e5bd8b0",
   "metadata": {},
   "outputs": [
    {
     "name": "stdout",
     "output_type": "stream",
     "text": [
      "2^0= 1\n",
      "2^1= 2\n",
      "2^2= 4\n",
      "2^3= 8\n",
      "2^4= 16\n"
     ]
    }
   ],
   "source": [
    "num=int(input(\"Enter the number\"))\n",
    "for i in range(num):\n",
    "    print(f\"{2}^{i}= {2**i}\")"
   ]
  },
  {
   "cell_type": "markdown",
   "id": "13c8c3ec",
   "metadata": {},
   "source": [
    "# BitWise Operator"
   ]
  },
  {
   "cell_type": "code",
   "execution_count": 5,
   "id": "45565e42",
   "metadata": {},
   "outputs": [
    {
     "name": "stdout",
     "output_type": "stream",
     "text": [
      "Enter the number of terms: 5\n",
      "2^0 = 1\n",
      "2^1 = 2\n",
      "2^2 = 4\n",
      "2^3 = 8\n",
      "2^4 = 16\n"
     ]
    }
   ],
   "source": [
    "n = int(input(\"Enter the number of terms: \"))\n",
    "\n",
    "for i in range(n):\n",
    "    print(f\"2^{i} = {1 << i}\")"
   ]
  },
  {
   "cell_type": "markdown",
   "id": "f76ce462",
   "metadata": {},
   "source": [
    "# Utilizing List Comprehensions"
   ]
  },
  {
   "cell_type": "code",
   "execution_count": 6,
   "id": "7931a807",
   "metadata": {},
   "outputs": [
    {
     "name": "stdout",
     "output_type": "stream",
     "text": [
      "Enter the number5\n"
     ]
    },
    {
     "data": {
      "text/plain": [
       "[1, 2, 4, 8, 16]"
      ]
     },
     "execution_count": 6,
     "metadata": {},
     "output_type": "execute_result"
    }
   ],
   "source": [
    "num=int(input(\"Enter the number\"))\n",
    "[2**i for i in range(num)]"
   ]
  },
  {
   "cell_type": "markdown",
   "id": "523acd61",
   "metadata": {},
   "source": [
    "# Functional Approach with map( ) and lambda"
   ]
  },
  {
   "cell_type": "code",
   "execution_count": null,
   "id": "5aadc807",
   "metadata": {},
   "outputs": [],
   "source": [
    "n = int(input(\"Enter the number of terms: \"))\n",
    "print(list(map(lambda x: 2 ** x, range(n))))"
   ]
  }
 ],
 "metadata": {
  "kernelspec": {
   "display_name": "Python 3 (ipykernel)",
   "language": "python",
   "name": "python3"
  },
  "language_info": {
   "codemirror_mode": {
    "name": "ipython",
    "version": 3
   },
   "file_extension": ".py",
   "mimetype": "text/x-python",
   "name": "python",
   "nbconvert_exporter": "python",
   "pygments_lexer": "ipython3",
   "version": "3.9.13"
  }
 },
 "nbformat": 4,
 "nbformat_minor": 5
}
