{
 "cells": [
  {
   "cell_type": "markdown",
   "id": "350bae36",
   "metadata": {},
   "source": [
    "# Python Program to Display Fibonacci Sequence Using Recursion"
   ]
  },
  {
   "cell_type": "code",
   "execution_count": 14,
   "id": "9448a81a",
   "metadata": {},
   "outputs": [],
   "source": [
    "memo={}\n",
    "def fibo_n(n):\n",
    "    if n in memo:\n",
    "        return memo[n]\n",
    "    \n",
    "    if n==0:\n",
    "        value=0\n",
    "    elif n==1:\n",
    "        value=1\n",
    "    else:\n",
    "        value=fibo_n(n-1)+fibo_n(n-2)\n",
    "        \n",
    "    memo[n]=value\n",
    "    type(memo[n])\n",
    "    return value\n"
   ]
  },
  {
   "cell_type": "code",
   "execution_count": 15,
   "id": "fd8d5f8a",
   "metadata": {},
   "outputs": [
    {
     "name": "stdout",
     "output_type": "stream",
     "text": [
      "0 1 1 2 3 5 8 13 21 34 "
     ]
    }
   ],
   "source": [
    "for i in range(10):\n",
    "    print(fibo_n(i),end=\" \")"
   ]
  },
  {
   "cell_type": "code",
   "execution_count": 21,
   "id": "28985f17",
   "metadata": {},
   "outputs": [
    {
     "name": "stdout",
     "output_type": "stream",
     "text": [
      "0 1 1 2 3 5 8 "
     ]
    }
   ],
   "source": [
    "#Traditional Method:\n",
    "def fibonacci(n):\n",
    "    if n == 0:\n",
    "        return 0\n",
    "    elif n == 1:\n",
    "        return 1\n",
    "    else:\n",
    "        return fibonacci(n-1) + fibonacci(n-2)\n",
    "\n",
    "# Displaying the first 10 Fibonacci numbers\n",
    "for i in range(7):\n",
    "    print(fibonacci(i), end=\" \")"
   ]
  },
  {
   "cell_type": "code",
   "execution_count": null,
   "id": "3270b53f",
   "metadata": {},
   "outputs": [],
   "source": []
  }
 ],
 "metadata": {
  "kernelspec": {
   "display_name": "Python 3 (ipykernel)",
   "language": "python",
   "name": "python3"
  },
  "language_info": {
   "codemirror_mode": {
    "name": "ipython",
    "version": 3
   },
   "file_extension": ".py",
   "mimetype": "text/x-python",
   "name": "python",
   "nbconvert_exporter": "python",
   "pygments_lexer": "ipython3",
   "version": "3.9.13"
  }
 },
 "nbformat": 4,
 "nbformat_minor": 5
}
