{
 "cells": [
  {
   "cell_type": "code",
   "execution_count": 8,
   "id": "206a66ce",
   "metadata": {},
   "outputs": [],
   "source": [
    "def remove_dup(list_input):\n",
    "    no_dup_list=[]\n",
    "    for i in list_input:\n",
    "        if i not in no_dup_list:\n",
    "            no_dup_list.append(i)\n",
    "    return no_dup_list\n",
    "    "
   ]
  },
  {
   "cell_type": "code",
   "execution_count": 16,
   "id": "9805e51a",
   "metadata": {},
   "outputs": [
    {
     "name": "stdout",
     "output_type": "stream",
     "text": [
      "After Removing,--------->[1, 22, 32, 24]\n"
     ]
    }
   ],
   "source": [
    "list_input=[1,22,32,22,32,24]\n",
    "print(f\"After Removing,--------->{remove_dup(list_input)}\")"
   ]
  },
  {
   "cell_type": "markdown",
   "id": "9734b06a",
   "metadata": {},
   "source": [
    "# Method 2: Using Set"
   ]
  },
  {
   "cell_type": "code",
   "execution_count": 17,
   "id": "8d27248d",
   "metadata": {},
   "outputs": [],
   "source": [
    "def remove_dup(list_input):\n",
    "    return set(list_input)\n"
   ]
  },
  {
   "cell_type": "code",
   "execution_count": 19,
   "id": "bf12e55c",
   "metadata": {},
   "outputs": [
    {
     "name": "stdout",
     "output_type": "stream",
     "text": [
      "After Removing,--------->[1, 22, 24, 32]\n"
     ]
    }
   ],
   "source": [
    "list_input=[1,22,32,22,32,24]\n",
    "print(f\"After Removing,--------->{sorted(remove_dup(list_input))}\")"
   ]
  },
  {
   "cell_type": "markdown",
   "id": "f90aa14d",
   "metadata": {},
   "source": [
    "# Method 3: Using List Comprehension"
   ]
  },
  {
   "cell_type": "code",
   "execution_count": 36,
   "id": "1ce64acf",
   "metadata": {},
   "outputs": [],
   "source": [
    "input_list=[11,22,32,22,32,24,11,111,1,1,2]\n"
   ]
  },
  {
   "cell_type": "code",
   "execution_count": 37,
   "id": "c51aed2e",
   "metadata": {},
   "outputs": [
    {
     "name": "stdout",
     "output_type": "stream",
     "text": [
      "[1, 2, 3, 4, 5]\n"
     ]
    }
   ],
   "source": [
    "def remove_duplicates(input_list):\n",
    "    return [elem for index, elem in enumerate(input_list) if elem not in input_list[:index]]\n",
    "\n",
    "# Example\n",
    "input_list = [1, 2, 2, 3, 4, 4, 5]\n",
    "print(remove_duplicates(input_list))"
   ]
  },
  {
   "cell_type": "markdown",
   "id": "6f02d9da",
   "metadata": {},
   "source": [
    "# Method 4: Using Collections.OrderedDict"
   ]
  },
  {
   "cell_type": "code",
   "execution_count": 38,
   "id": "835f9486",
   "metadata": {},
   "outputs": [],
   "source": [
    "from collections import OrderedDict\n",
    "\n",
    "def remove_duplicates(input_list):\n",
    "    return list(OrderedDict.fromkeys(input_list))\n",
    "\n",
    "# Example\n",
    "input_list = [1, 2, 2, 3, 4, 4, 5]"
   ]
  },
  {
   "cell_type": "code",
   "execution_count": 39,
   "id": "47062bb0",
   "metadata": {},
   "outputs": [
    {
     "data": {
      "text/plain": [
       "[1, 2, 3, 4, 5]"
      ]
     },
     "execution_count": 39,
     "metadata": {},
     "output_type": "execute_result"
    }
   ],
   "source": [
    "remove_duplicates(input_list)"
   ]
  },
  {
   "cell_type": "code",
   "execution_count": null,
   "id": "3dd34b2b",
   "metadata": {},
   "outputs": [],
   "source": []
  }
 ],
 "metadata": {
  "kernelspec": {
   "display_name": "Python 3 (ipykernel)",
   "language": "python",
   "name": "python3"
  },
  "language_info": {
   "codemirror_mode": {
    "name": "ipython",
    "version": 3
   },
   "file_extension": ".py",
   "mimetype": "text/x-python",
   "name": "python",
   "nbconvert_exporter": "python",
   "pygments_lexer": "ipython3",
   "version": "3.9.13"
  }
 },
 "nbformat": 4,
 "nbformat_minor": 5
}
