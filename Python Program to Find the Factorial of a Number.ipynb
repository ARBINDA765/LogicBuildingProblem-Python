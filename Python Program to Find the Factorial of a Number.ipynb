{
 "cells": [
  {
   "cell_type": "markdown",
   "id": "27e2906f",
   "metadata": {},
   "source": [
    "# Solution-1:Old School Method--EverGreen"
   ]
  },
  {
   "cell_type": "code",
   "execution_count": 17,
   "id": "9d3453e1",
   "metadata": {},
   "outputs": [],
   "source": [
    "def factrial_num():\n",
    "    result=1\n",
    "    num=int(input(\"Enter the number--------------> \"))\n",
    "    if num ==0 or num ==1:\n",
    "        return 1\n",
    "    elif num > 1:\n",
    "        for i in range(1,num+1):\n",
    "            result=result*i\n",
    "        return print(f\"Factrial of {num} is {result}\")\n",
    "        \n",
    "    \n",
    "        "
   ]
  },
  {
   "cell_type": "code",
   "execution_count": 18,
   "id": "9b92766f",
   "metadata": {},
   "outputs": [
    {
     "name": "stdout",
     "output_type": "stream",
     "text": [
      "Enter the number--------------> 5\n",
      "Factrial of 5 is 120\n"
     ]
    }
   ],
   "source": [
    "factrial_num()"
   ]
  },
  {
   "cell_type": "markdown",
   "id": "72b1cf2d",
   "metadata": {},
   "source": [
    "# Solution-2 Using Python’s Standard Library"
   ]
  },
  {
   "cell_type": "code",
   "execution_count": 21,
   "id": "57f59a5e",
   "metadata": {},
   "outputs": [
    {
     "data": {
      "text/plain": [
       "120"
      ]
     },
     "execution_count": 21,
     "metadata": {},
     "output_type": "execute_result"
    }
   ],
   "source": [
    "import math\n",
    "\n",
    "math.factorial(5)"
   ]
  },
  {
   "cell_type": "markdown",
   "id": "27a1275d",
   "metadata": {},
   "source": [
    "# Solution-3 Recursive Implementation"
   ]
  },
  {
   "cell_type": "code",
   "execution_count": 31,
   "id": "67e1e3c9",
   "metadata": {},
   "outputs": [
    {
     "name": "stdout",
     "output_type": "stream",
     "text": [
      "Enter the number------------>5\n"
     ]
    }
   ],
   "source": [
    "num=int(input(\"Enter the number------------>\"))\n",
    "def fact_rescr(num):\n",
    "    if num ==0 or num==1:\n",
    "        return 1\n",
    "    elif num >1:\n",
    "        return num * fact_rescr(num-1)\n"
   ]
  },
  {
   "cell_type": "code",
   "execution_count": 32,
   "id": "b372ccc8",
   "metadata": {},
   "outputs": [
    {
     "name": "stdout",
     "output_type": "stream",
     "text": [
      "120\n"
     ]
    }
   ],
   "source": [
    "print(fact_rescr(num))"
   ]
  },
  {
   "cell_type": "markdown",
   "id": "3160a14c",
   "metadata": {},
   "source": [
    "# Solution -4 Iterative Implementation"
   ]
  },
  {
   "cell_type": "code",
   "execution_count": 34,
   "id": "8a0cd600",
   "metadata": {},
   "outputs": [],
   "source": [
    "def fact_cal(num):\n",
    "    result=1\n",
    "    if num ==0 or num==1:\n",
    "        return 1\n",
    "    while(num>1):\n",
    "        result=result*num\n",
    "        num=num-1\n",
    "    return result\n",
    "        \n",
    "    "
   ]
  },
  {
   "cell_type": "code",
   "execution_count": 36,
   "id": "be9bab99",
   "metadata": {},
   "outputs": [
    {
     "data": {
      "text/plain": [
       "1"
      ]
     },
     "execution_count": 36,
     "metadata": {},
     "output_type": "execute_result"
    }
   ],
   "source": [
    "fact_cal(0)"
   ]
  },
  {
   "cell_type": "code",
   "execution_count": null,
   "id": "820ae4fa",
   "metadata": {},
   "outputs": [],
   "source": []
  }
 ],
 "metadata": {
  "kernelspec": {
   "display_name": "Python 3 (ipykernel)",
   "language": "python",
   "name": "python3"
  },
  "language_info": {
   "codemirror_mode": {
    "name": "ipython",
    "version": 3
   },
   "file_extension": ".py",
   "mimetype": "text/x-python",
   "name": "python",
   "nbconvert_exporter": "python",
   "pygments_lexer": "ipython3",
   "version": "3.9.13"
  }
 },
 "nbformat": 4,
 "nbformat_minor": 5
}
