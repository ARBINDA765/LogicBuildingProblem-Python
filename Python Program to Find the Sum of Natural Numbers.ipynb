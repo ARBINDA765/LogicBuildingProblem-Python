{
 "cells": [
  {
   "cell_type": "markdown",
   "id": "961aa971",
   "metadata": {},
   "source": [
    "# Solution 1-Brute Force Method Using Loops"
   ]
  },
  {
   "cell_type": "code",
   "execution_count": 7,
   "id": "7d15ec44",
   "metadata": {},
   "outputs": [
    {
     "name": "stdout",
     "output_type": "stream",
     "text": [
      "Enter the no for which natural numbers to be generated--------->3\n"
     ]
    }
   ],
   "source": [
    "Natural_Numbers= int(input(\"Enter the no for which natural numbers to be generated--------->\"))\n"
   ]
  },
  {
   "cell_type": "code",
   "execution_count": 11,
   "id": "6cce55fa",
   "metadata": {},
   "outputs": [
    {
     "name": "stdout",
     "output_type": "stream",
     "text": [
      "The sum of first 3 natural numbers is 6\n"
     ]
    }
   ],
   "source": [
    "sum=0\n",
    "for i in range(1,Natural_Numbers+1):\n",
    "    sum=sum+i\n",
    "print(f\"The sum of first {n} natural numbers is {sum}\")"
   ]
  },
  {
   "cell_type": "markdown",
   "id": "6dc98dfd",
   "metadata": {},
   "source": [
    "# Solution-2: Using the Arithmetic Sum Formula"
   ]
  },
  {
   "cell_type": "code",
   "execution_count": 10,
   "id": "17a3727d",
   "metadata": {},
   "outputs": [
    {
     "name": "stdout",
     "output_type": "stream",
     "text": [
      "Enter the number------->3\n",
      "The sum of first 3 natural numbers is 6\n"
     ]
    }
   ],
   "source": [
    "n=int(input(\"Enter the number------->\"))\n",
    "sum = (n*(n+1))//2\n",
    "print(f\"The sum of first {n} natural numbers is {sum}\")\n"
   ]
  },
  {
   "cell_type": "markdown",
   "id": "9084d125",
   "metadata": {},
   "source": [
    "# Solution-3:. Recursive Method"
   ]
  },
  {
   "cell_type": "code",
   "execution_count": 12,
   "id": "7795a7bb",
   "metadata": {},
   "outputs": [],
   "source": [
    "def find_sum(n):\n",
    "    if n==1:\n",
    "        return 1\n",
    "    else:\n",
    "        return n+find_sum(n-1)"
   ]
  },
  {
   "cell_type": "code",
   "execution_count": 13,
   "id": "237a38f1",
   "metadata": {},
   "outputs": [
    {
     "data": {
      "text/plain": [
       "6"
      ]
     },
     "execution_count": 13,
     "metadata": {},
     "output_type": "execute_result"
    }
   ],
   "source": [
    "find_sum(3)"
   ]
  },
  {
   "cell_type": "markdown",
   "id": "a88406a5",
   "metadata": {},
   "source": [
    "# Solution-4 Optimized Techniques--Numpy Using"
   ]
  },
  {
   "cell_type": "code",
   "execution_count": 14,
   "id": "4262fa26",
   "metadata": {},
   "outputs": [],
   "source": [
    "import numpy as np"
   ]
  },
  {
   "cell_type": "code",
   "execution_count": 19,
   "id": "081847df",
   "metadata": {},
   "outputs": [
    {
     "name": "stdout",
     "output_type": "stream",
     "text": [
      "Enter the value of n: 3\n",
      "3 sum is 6\n"
     ]
    }
   ],
   "source": [
    "n = int(input(\"Enter the value of n: \"))\n",
    "sum_np=np.sum(np.arange(1,n+1))\n",
    "print(f\"{n} sum is {sum}\")"
   ]
  },
  {
   "cell_type": "code",
   "execution_count": null,
   "id": "7024e480",
   "metadata": {},
   "outputs": [],
   "source": []
  }
 ],
 "metadata": {
  "kernelspec": {
   "display_name": "Python 3 (ipykernel)",
   "language": "python",
   "name": "python3"
  },
  "language_info": {
   "codemirror_mode": {
    "name": "ipython",
    "version": 3
   },
   "file_extension": ".py",
   "mimetype": "text/x-python",
   "name": "python",
   "nbconvert_exporter": "python",
   "pygments_lexer": "ipython3",
   "version": "3.9.13"
  }
 },
 "nbformat": 4,
 "nbformat_minor": 5
}
