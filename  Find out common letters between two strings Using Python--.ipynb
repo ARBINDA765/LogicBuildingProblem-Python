{
 "cells": [
  {
   "cell_type": "markdown",
   "id": "7ebf7674",
   "metadata": {},
   "source": [
    "# Find out common letters between two strings Using Python"
   ]
  },
  {
   "cell_type": "code",
   "execution_count": 4,
   "id": "e321158e",
   "metadata": {},
   "outputs": [
    {
     "name": "stdout",
     "output_type": "stream",
     "text": [
      "Enter the StringABC\n",
      "Enter the StringXYZA\n",
      " common character are--{'A'}\n",
      " common character are--{'Y', 'X', 'B', 'Z', 'C'}\n"
     ]
    }
   ],
   "source": [
    "Word_1=input(\"Enter the String\")\n",
    "Word_2=input(\"Enter the String\")\n",
    "\n",
    "str_1=set(Word_1)\n",
    "str_2=set(Word_2)\n",
    "\n",
    "common_char=str_1&str_2 #Intersection\n",
    "print(f\" common character are--{common_char}\")\n",
    "\n",
    "non_common_char=str_1^str_2  #Not common character\n",
    "print(f\" NON-common character are--{non_common_char}\")\n"
   ]
  },
  {
   "cell_type": "code",
   "execution_count": null,
   "id": "a20b2976",
   "metadata": {},
   "outputs": [],
   "source": []
  }
 ],
 "metadata": {
  "kernelspec": {
   "display_name": "Python 3 (ipykernel)",
   "language": "python",
   "name": "python3"
  },
  "language_info": {
   "codemirror_mode": {
    "name": "ipython",
    "version": 3
   },
   "file_extension": ".py",
   "mimetype": "text/x-python",
   "name": "python",
   "nbconvert_exporter": "python",
   "pygments_lexer": "ipython3",
   "version": "3.9.13"
  }
 },
 "nbformat": 4,
 "nbformat_minor": 5
}
