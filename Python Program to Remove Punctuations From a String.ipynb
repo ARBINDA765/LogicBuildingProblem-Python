{
 "cells": [
  {
   "cell_type": "code",
   "execution_count": 1,
   "id": "c9719233",
   "metadata": {},
   "outputs": [],
   "source": [
    "#Python Program to Remove Punctuations From a String"
   ]
  },
  {
   "cell_type": "markdown",
   "id": "99f75fe7",
   "metadata": {},
   "source": [
    "# The Straightforward Approach: Using a Loop"
   ]
  },
  {
   "cell_type": "code",
   "execution_count": 5,
   "id": "6fd7f7cf",
   "metadata": {},
   "outputs": [],
   "source": [
    "import string\n",
    "\n",
    "def remove_punctuation(input_string):\n",
    "    result=''\n",
    "    for  char in input_string:\n",
    "        if char not in string.punctuation:\n",
    "            result=result+char\n",
    "    return result"
   ]
  },
  {
   "cell_type": "code",
   "execution_count": 9,
   "id": "d3337e7b",
   "metadata": {},
   "outputs": [
    {
     "data": {
      "text/plain": [
       "'0 wert'"
      ]
     },
     "execution_count": 9,
     "metadata": {},
     "output_type": "execute_result"
    }
   ],
   "source": [
    "input_string='0 ' 'wert'\n",
    "remove_punctuation(input_string)"
   ]
  },
  {
   "cell_type": "markdown",
   "id": "72ba7b11",
   "metadata": {},
   "source": [
    "# 5. Using str.translate( )\n",
    "Python’s str.translate() method returns a string where specified characters are replaced with specified characters. This is useful for removing punctuation as shown below:\n"
   ]
  },
  {
   "cell_type": "code",
   "execution_count": 26,
   "id": "f086de6c",
   "metadata": {},
   "outputs": [],
   "source": [
    "def remove_punctuation_translate(input_string):\n",
    "    translator = str.maketrans('', '', string.punctuation)\n",
    "    return input_string.translate(translator)"
   ]
  },
  {
   "cell_type": "code",
   "execution_count": 27,
   "id": "1e5817fa",
   "metadata": {},
   "outputs": [
    {
     "data": {
      "text/plain": [
       "'POIUY '"
      ]
     },
     "execution_count": 27,
     "metadata": {},
     "output_type": "execute_result"
    }
   ],
   "source": [
    "input_string='POIUY '''\n",
    "remove_punctuation_translate(input_string)"
   ]
  },
  {
   "cell_type": "code",
   "execution_count": 40,
   "id": "f9020a3c",
   "metadata": {},
   "outputs": [],
   "source": [
    "target='Arabinda '''\n",
    "t=target.maketrans('ab', 'xx',string.punctuation)"
   ]
  },
  {
   "cell_type": "code",
   "execution_count": 41,
   "id": "acfa6a8d",
   "metadata": {},
   "outputs": [
    {
     "data": {
      "text/plain": [
       "'Arxxindx '"
      ]
     },
     "execution_count": 41,
     "metadata": {},
     "output_type": "execute_result"
    }
   ],
   "source": [
    "target.translate(t)"
   ]
  },
  {
   "cell_type": "code",
   "execution_count": null,
   "id": "b737c17a",
   "metadata": {},
   "outputs": [],
   "source": []
  }
 ],
 "metadata": {
  "kernelspec": {
   "display_name": "Python 3 (ipykernel)",
   "language": "python",
   "name": "python3"
  },
  "language_info": {
   "codemirror_mode": {
    "name": "ipython",
    "version": 3
   },
   "file_extension": ".py",
   "mimetype": "text/x-python",
   "name": "python",
   "nbconvert_exporter": "python",
   "pygments_lexer": "ipython3",
   "version": "3.9.13"
  }
 },
 "nbformat": 4,
 "nbformat_minor": 5
}
