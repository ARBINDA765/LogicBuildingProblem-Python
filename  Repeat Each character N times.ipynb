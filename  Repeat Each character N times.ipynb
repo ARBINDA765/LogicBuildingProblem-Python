{
 "cells": [
  {
   "cell_type": "markdown",
   "id": "9f33fe98",
   "metadata": {},
   "source": [
    "# Repeat Each character N times"
   ]
  },
  {
   "cell_type": "code",
   "execution_count": 3,
   "id": "e2716059",
   "metadata": {},
   "outputs": [
    {
     "name": "stdout",
     "output_type": "stream",
     "text": [
      "AArraabbiinnddaa\n"
     ]
    }
   ],
   "source": [
    "s=\"Arabinda\"\n",
    "result=\"\"\n",
    "n=2\n",
    "for i in s:\n",
    "    result=result+i*n\n",
    "    \n",
    "print(result)\n",
    " "
   ]
  },
  {
   "cell_type": "code",
   "execution_count": 9,
   "id": "9f4c5e8a",
   "metadata": {},
   "outputs": [],
   "source": [
    "#Recursive Method\n",
    "def multiple_string(s,n):\n",
    "    if len(s)==0:\n",
    "        return \"\"\n",
    "    else:\n",
    "        return s[0]*n+multiple_string(s[1:],n)"
   ]
  },
  {
   "cell_type": "code",
   "execution_count": 11,
   "id": "847f5b4f",
   "metadata": {},
   "outputs": [
    {
     "data": {
      "text/plain": [
       "'RRaamm'"
      ]
     },
     "execution_count": 11,
     "metadata": {},
     "output_type": "execute_result"
    }
   ],
   "source": [
    "s=\"Ram\"\n",
    "n=2\n",
    "multiple_string(s,n)"
   ]
  },
  {
   "cell_type": "code",
   "execution_count": null,
   "id": "880500f7",
   "metadata": {},
   "outputs": [],
   "source": []
  }
 ],
 "metadata": {
  "kernelspec": {
   "display_name": "Python 3 (ipykernel)",
   "language": "python",
   "name": "python3"
  },
  "language_info": {
   "codemirror_mode": {
    "name": "ipython",
    "version": 3
   },
   "file_extension": ".py",
   "mimetype": "text/x-python",
   "name": "python",
   "nbconvert_exporter": "python",
   "pygments_lexer": "ipython3",
   "version": "3.9.13"
  }
 },
 "nbformat": 4,
 "nbformat_minor": 5
}
